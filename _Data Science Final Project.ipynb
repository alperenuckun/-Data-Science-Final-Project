{
 "cells": [
  {
   "cell_type": "markdown",
   "id": "6a0f39ff-149a-4f5e-b42b-2399eeca1b54",
   "metadata": {},
   "source": [
    "# Data Science Final Project"
   ]
  },
  {
   "cell_type": "markdown",
   "id": "53e1d293-6953-4c66-a52a-d57bbc8aa922",
   "metadata": {},
   "source": [
    "# Data Science Final Project"
   ]
  },
  {
   "cell_type": "markdown",
   "id": "17937987-13a0-404a-83a3-bfcac12069a9",
   "metadata": {},
   "source": [
    "## Introduction\n",
    "This notebook is created as a final project for the Data Science course. It will cover various tools, languages, and libraries used in data science, along with some basic arithmetic examples."
   ]
  },
  {
   "cell_type": "markdown",
   "id": "af77d281-8f35-46f4-b083-6ee5735926eb",
   "metadata": {},
   "source": [
    "## Introduction\n",
    "This notebook is created as a final project for the Data Science course. It will cover various tools, languages, and libraries used in data science, along with some basic arithmetic examples."
   ]
  },
  {
   "cell_type": "markdown",
   "id": "3dad3048-a045-4bd3-a63d-cd4e8b014d17",
   "metadata": {},
   "source": [
    "## Data Science Languages\n",
    "1. Python\n",
    "2. R\n",
    "3. SQL\n",
    "4. Julia\n",
    "5. Java\n",
    "6. Scala\n",
    "7. SAS"
   ]
  },
  {
   "cell_type": "markdown",
   "id": "268684a2-6ed4-463a-bef9-1eaaa5199aa5",
   "metadata": {},
   "source": [
    "## Data Science Languages\n",
    "1. Python\n",
    "2. R\n",
    "3. SQL\n",
    "4. Julia\n",
    "5. Java\n",
    "6. Scala\n",
    "7. SAS"
   ]
  },
  {
   "cell_type": "markdown",
   "id": "367cd6ec-76f1-4e28-b616-1ce4233d3cd2",
   "metadata": {},
   "source": [
    "## Data Science Libraries\n",
    "- NumPy\n",
    "- Pandas\n",
    "- Matplotlib\n",
    "- Seaborn\n",
    "- Scikit-learn\n",
    "- TensorFlow\n",
    "- PyTorch"
   ]
  },
  {
   "cell_type": "markdown",
   "id": "0bf292c4-89b9-42d1-900e-7360520f29fa",
   "metadata": {},
   "source": [
    "## Data Science Libraries\n",
    "- NumPy\n",
    "- Pandas\n",
    "- Matplotlib\n",
    "- Seaborn\n",
    "- Scikit-learn\n",
    "- TensorFlow\n",
    "- PyTorch"
   ]
  },
  {
   "cell_type": "markdown",
   "id": "a2eb40f9-f292-49c1-bdcf-baa24c03701f",
   "metadata": {},
   "source": [
    "## Data Science Tools\n",
    "| Tool             | Description                        |\n",
    "|------------------|------------------------------------|\n",
    "| Jupyter Notebook | Interactive notebooks for analysis |\n",
    "| RStudio          | IDE for R                          |\n",
    "| Apache Spark     | Big data processing                |\n",
    "| TensorFlow       | Deep learning framework            |\n",
    "| Tableau          | Data visualization tool            |"
   ]
  },
  {
   "cell_type": "markdown",
   "id": "405777ba-154e-457b-a9de-e296f824805d",
   "metadata": {},
   "source": [
    "## Data Science Tools\n",
    "| Tool             | Description                        |\n",
    "|------------------|------------------------------------|\n",
    "| Jupyter Notebook | Interactive notebooks for analysis |\n",
    "| RStudio          | IDE for R                          |\n",
    "| Apache Spark     | Big data processing                |\n",
    "| TensorFlow       | Deep learning framework            |\n",
    "| Tableau          | Data visualization tool            |"
   ]
  },
  {
   "cell_type": "markdown",
   "id": "d3b393c5-67ca-47e9-a981-bae09c3058e9",
   "metadata": {},
   "source": [
    "## Arithmetic Expression Examples\n",
    "Arithmetic expressions are commonly used in data analysis, such as addition, subtraction, multiplication, and division."
   ]
  },
  {
   "cell_type": "markdown",
   "id": "77ead1d9-fa62-4ed6-8de3-91244b27adf3",
   "metadata": {},
   "source": [
    "## Arithmetic Expression Examples\n",
    "Arithmetic expressions are commonly used in data analysis, such as addition, subtraction, multiplication, and division."
   ]
  },
  {
   "cell_type": "code",
   "execution_count": 18,
   "id": "39df8a78-50d8-452e-9976-219f94844470",
   "metadata": {},
   "outputs": [
    {
     "data": {
      "text/plain": [
       "39"
      ]
     },
     "execution_count": 18,
     "metadata": {},
     "output_type": "execute_result"
    }
   ],
   "source": [
    "# Multiplication and addition\n",
    "(7 * 5) + 4"
   ]
  },
  {
   "cell_type": "code",
   "execution_count": 20,
   "id": "943b1cb3-0b4c-4ae4-93cf-b69ef260cac2",
   "metadata": {},
   "outputs": [
    {
     "data": {
      "text/plain": [
       "4.0"
      ]
     },
     "execution_count": 20,
     "metadata": {},
     "output_type": "execute_result"
    }
   ],
   "source": [
    "# Convert minutes to hours\n",
    "minutes = 240\n",
    "hours = minutes / 60\n",
    "hours"
   ]
  },
  {
   "cell_type": "markdown",
   "id": "1ea09726-e1b8-45a0-a302-a1bc732f2719",
   "metadata": {},
   "source": [
    "## Goals\n",
    "- Learn about the primary tools and libraries used in data science.\n",
    "- Understand how to perform basic arithmetic operations.\n",
    "- Practice coding skills in a data science environment."
   ]
  },
  {
   "cell_type": "markdown",
   "id": "bc5a136f-6cfe-41d9-b4d3-08ae6e6c4d8c",
   "metadata": {},
   "source": [
    "## Goals\n",
    "- Learn about the primary tools and libraries used in data science.\n",
    "- Understand how to perform basic arithmetic operations.\n",
    "- Practice coding skills in a data science environment."
   ]
  },
  {
   "cell_type": "markdown",
   "id": "eff4ce16-8643-4375-a8b3-fbe0b643af82",
   "metadata": {},
   "source": [
    "## Author\n",
    "This notebook was prepared by Alp Eren."
   ]
  },
  {
   "cell_type": "markdown",
   "id": "39fa10e0-8850-4d61-91ef-9416e0e5a601",
   "metadata": {},
   "source": [
    "## Author\n",
    "This notebook was prepared by Alp Eren."
   ]
  },
  {
   "cell_type": "code",
   "execution_count": null,
   "id": "709b92dd-d039-4efd-b89c-ef3588ff5841",
   "metadata": {},
   "outputs": [],
   "source": []
  }
 ],
 "metadata": {
  "kernelspec": {
   "display_name": "Python 3 (ipykernel)",
   "language": "python",
   "name": "python3"
  },
  "language_info": {
   "codemirror_mode": {
    "name": "ipython",
    "version": 3
   },
   "file_extension": ".py",
   "mimetype": "text/x-python",
   "name": "python",
   "nbconvert_exporter": "python",
   "pygments_lexer": "ipython3",
   "version": "3.12.4"
  }
 },
 "nbformat": 4,
 "nbformat_minor": 5
}
